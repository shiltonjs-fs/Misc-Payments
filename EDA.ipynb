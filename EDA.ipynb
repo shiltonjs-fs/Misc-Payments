{
 "cells": [
  {
   "cell_type": "markdown",
   "metadata": {},
   "source": [
    "### Import Packages"
   ]
  },
  {
   "cell_type": "code",
   "execution_count": 1,
   "metadata": {},
   "outputs": [],
   "source": [
    "import os\n",
    "import snowflake.connector\n",
    "from snowflake.connector.pandas_tools import write_pandas\n",
    "import pandas as pd\n",
    "import numpy as np\n",
    "from sklearn.preprocessing import RobustScaler\n",
    "import matplotlib.pyplot as plt\n",
    "from sklearn_extra.cluster import KMedoids\n",
    "from sklearn.cluster import KMeans\n",
    "from sklearn.datasets import make_blobs\n",
    "import pickle\n",
    "from nltk.tokenize import word_tokenize\n",
    "from nltk.corpus import stopwords\n",
    "import nltk\n",
    "from sklearn.feature_extraction.text import TfidfVectorizer, CountVectorizer\n",
    "from sklearn.decomposition import LatentDirichletAllocation"
   ]
  },
  {
   "cell_type": "markdown",
   "metadata": {},
   "source": [
    "### Snowflake Connect"
   ]
  },
  {
   "cell_type": "code",
   "execution_count": 4,
   "metadata": {},
   "outputs": [],
   "source": [
    "# Establish connection with Snowflake\n",
    "conn = snowflake.connector.connect(connection_name=\"fundingsociety.sg.ap-southeast-1.aws.privatelink\")\n",
    "\n",
    "# Get SQL query file as data input \n",
    "def get_sql_file_as_text(file_path):\n",
    "  \n",
    "  with open(file_path, 'r') as f:\n",
    "    sql_content = f.read()\n",
    "  return sql_content"
   ]
  },
  {
   "cell_type": "code",
   "execution_count": 9,
   "metadata": {},
   "outputs": [],
   "source": [
    "# Import SQL Snowflake Query file here\n",
    "sql_file = \"EDA.sql\"\n",
    "my_query = get_sql_file_as_text(sql_file)\n",
    "\n",
    "# Get data from query\n",
    "df = conn.cursor().execute(my_query).fetch_pandas_all()"
   ]
  },
  {
   "cell_type": "code",
   "execution_count": 10,
   "metadata": {},
   "outputs": [
    {
     "data": {
      "text/plain": [
       "(7937, 8)"
      ]
     },
     "execution_count": 10,
     "metadata": {},
     "output_type": "execute_result"
    }
   ],
   "source": [
    "# Check data shape\n",
    "df.shape"
   ]
  },
  {
   "cell_type": "code",
   "execution_count": 11,
   "metadata": {},
   "outputs": [
    {
     "data": {
      "text/html": [
       "<div>\n",
       "<style scoped>\n",
       "    .dataframe tbody tr th:only-of-type {\n",
       "        vertical-align: middle;\n",
       "    }\n",
       "\n",
       "    .dataframe tbody tr th {\n",
       "        vertical-align: top;\n",
       "    }\n",
       "\n",
       "    .dataframe thead th {\n",
       "        text-align: right;\n",
       "    }\n",
       "</style>\n",
       "<table border=\"1\" class=\"dataframe\">\n",
       "  <thead>\n",
       "    <tr style=\"text-align: right;\">\n",
       "      <th></th>\n",
       "      <th>PAYMENT_ID</th>\n",
       "      <th>USER_ID</th>\n",
       "      <th>PAYMENT_DATE</th>\n",
       "      <th>PAYEE_NAME</th>\n",
       "      <th>SCHEDULE_TYPE</th>\n",
       "      <th>GTV</th>\n",
       "      <th>NET_REVENUE</th>\n",
       "      <th>REVENUE</th>\n",
       "    </tr>\n",
       "  </thead>\n",
       "  <tbody>\n",
       "    <tr>\n",
       "      <th>0</th>\n",
       "      <td>604030e48a7d0950d4ce95f1da2481b6</td>\n",
       "      <td>150588</td>\n",
       "      <td>2023-11-23</td>\n",
       "      <td>151898_Giftworks Creation</td>\n",
       "      <td>one off</td>\n",
       "      <td>1167.146820</td>\n",
       "      <td>10.738661</td>\n",
       "      <td>26.262699</td>\n",
       "    </tr>\n",
       "    <tr>\n",
       "      <th>1</th>\n",
       "      <td>c3e32f2b3a2459d7038bd78362bded30</td>\n",
       "      <td>93024</td>\n",
       "      <td>2024-07-17</td>\n",
       "      <td>153331_SIMFONI PESONA SDN BHD</td>\n",
       "      <td>one off</td>\n",
       "      <td>1202.259814</td>\n",
       "      <td>10.511147</td>\n",
       "      <td>41.498554</td>\n",
       "    </tr>\n",
       "    <tr>\n",
       "      <th>2</th>\n",
       "      <td>44550d669aa5c3d35b67e3ff08a1b474</td>\n",
       "      <td>16895</td>\n",
       "      <td>2024-07-15</td>\n",
       "      <td>223154_Dyna Cool Air Pte Ltd</td>\n",
       "      <td>one off</td>\n",
       "      <td>115.728788</td>\n",
       "      <td>0.955559</td>\n",
       "      <td>2.601243</td>\n",
       "    </tr>\n",
       "    <tr>\n",
       "      <th>3</th>\n",
       "      <td>db018d5d24cb868e48b45ebf933da480</td>\n",
       "      <td>48577</td>\n",
       "      <td>2024-06-27</td>\n",
       "      <td>50844_Aktiff TG Enterprise</td>\n",
       "      <td>one off</td>\n",
       "      <td>400.424640</td>\n",
       "      <td>5.028059</td>\n",
       "      <td>10.412557</td>\n",
       "    </tr>\n",
       "    <tr>\n",
       "      <th>4</th>\n",
       "      <td>20d2865de84267b6a0bbe7c0da70fa1d</td>\n",
       "      <td>201808</td>\n",
       "      <td>2024-10-11</td>\n",
       "      <td>207366_Drive Team Pte Ltd</td>\n",
       "      <td>one off</td>\n",
       "      <td>530.866000</td>\n",
       "      <td>2.881844</td>\n",
       "      <td>13.537083</td>\n",
       "    </tr>\n",
       "  </tbody>\n",
       "</table>\n",
       "</div>"
      ],
      "text/plain": [
       "                         PAYMENT_ID  USER_ID PAYMENT_DATE  \\\n",
       "0  604030e48a7d0950d4ce95f1da2481b6   150588   2023-11-23   \n",
       "1  c3e32f2b3a2459d7038bd78362bded30    93024   2024-07-17   \n",
       "2  44550d669aa5c3d35b67e3ff08a1b474    16895   2024-07-15   \n",
       "3  db018d5d24cb868e48b45ebf933da480    48577   2024-06-27   \n",
       "4  20d2865de84267b6a0bbe7c0da70fa1d   201808   2024-10-11   \n",
       "\n",
       "                      PAYEE_NAME SCHEDULE_TYPE          GTV  NET_REVENUE  \\\n",
       "0      151898_Giftworks Creation       one off  1167.146820    10.738661   \n",
       "1  153331_SIMFONI PESONA SDN BHD       one off  1202.259814    10.511147   \n",
       "2   223154_Dyna Cool Air Pte Ltd       one off   115.728788     0.955559   \n",
       "3     50844_Aktiff TG Enterprise       one off   400.424640     5.028059   \n",
       "4      207366_Drive Team Pte Ltd       one off   530.866000     2.881844   \n",
       "\n",
       "     REVENUE  \n",
       "0  26.262699  \n",
       "1  41.498554  \n",
       "2   2.601243  \n",
       "3  10.412557  \n",
       "4  13.537083  "
      ]
     },
     "execution_count": 11,
     "metadata": {},
     "output_type": "execute_result"
    }
   ],
   "source": [
    "# Check data sample\n",
    "df.head()"
   ]
  },
  {
   "cell_type": "markdown",
   "metadata": {},
   "source": [
    "### EDA"
   ]
  },
  {
   "cell_type": "code",
   "execution_count": 14,
   "metadata": {
    "vscode": {
     "languageId": "javascript"
    }
   },
   "outputs": [
    {
     "data": {
      "text/html": [
       "<div>\n",
       "<style scoped>\n",
       "    .dataframe tbody tr th:only-of-type {\n",
       "        vertical-align: middle;\n",
       "    }\n",
       "\n",
       "    .dataframe tbody tr th {\n",
       "        vertical-align: top;\n",
       "    }\n",
       "\n",
       "    .dataframe thead th {\n",
       "        text-align: right;\n",
       "    }\n",
       "</style>\n",
       "<table border=\"1\" class=\"dataframe\">\n",
       "  <thead>\n",
       "    <tr style=\"text-align: right;\">\n",
       "      <th></th>\n",
       "      <th>PAYMENT_ID</th>\n",
       "      <th>USER_ID</th>\n",
       "      <th>PAYMENT_DATE</th>\n",
       "      <th>PAYEE_NAME</th>\n",
       "      <th>SCHEDULE_TYPE</th>\n",
       "      <th>GTV</th>\n",
       "      <th>NET_REVENUE</th>\n",
       "      <th>REVENUE</th>\n",
       "      <th>PAYEE_NAME_WITHOUT_NUMBERS</th>\n",
       "    </tr>\n",
       "  </thead>\n",
       "  <tbody>\n",
       "    <tr>\n",
       "      <th>0</th>\n",
       "      <td>604030e48a7d0950d4ce95f1da2481b6</td>\n",
       "      <td>150588</td>\n",
       "      <td>2023-11-23</td>\n",
       "      <td>151898_Giftworks Creation</td>\n",
       "      <td>one off</td>\n",
       "      <td>1167.146820</td>\n",
       "      <td>10.738661</td>\n",
       "      <td>26.262699</td>\n",
       "      <td>giftworks creation</td>\n",
       "    </tr>\n",
       "    <tr>\n",
       "      <th>1</th>\n",
       "      <td>c3e32f2b3a2459d7038bd78362bded30</td>\n",
       "      <td>93024</td>\n",
       "      <td>2024-07-17</td>\n",
       "      <td>153331_SIMFONI PESONA SDN BHD</td>\n",
       "      <td>one off</td>\n",
       "      <td>1202.259814</td>\n",
       "      <td>10.511147</td>\n",
       "      <td>41.498554</td>\n",
       "      <td>simfoni pesona sdn bhd</td>\n",
       "    </tr>\n",
       "    <tr>\n",
       "      <th>2</th>\n",
       "      <td>44550d669aa5c3d35b67e3ff08a1b474</td>\n",
       "      <td>16895</td>\n",
       "      <td>2024-07-15</td>\n",
       "      <td>223154_Dyna Cool Air Pte Ltd</td>\n",
       "      <td>one off</td>\n",
       "      <td>115.728788</td>\n",
       "      <td>0.955559</td>\n",
       "      <td>2.601243</td>\n",
       "      <td>dyna cool air pte ltd</td>\n",
       "    </tr>\n",
       "    <tr>\n",
       "      <th>3</th>\n",
       "      <td>db018d5d24cb868e48b45ebf933da480</td>\n",
       "      <td>48577</td>\n",
       "      <td>2024-06-27</td>\n",
       "      <td>50844_Aktiff TG Enterprise</td>\n",
       "      <td>one off</td>\n",
       "      <td>400.424640</td>\n",
       "      <td>5.028059</td>\n",
       "      <td>10.412557</td>\n",
       "      <td>aktiff tg enterprise</td>\n",
       "    </tr>\n",
       "    <tr>\n",
       "      <th>4</th>\n",
       "      <td>20d2865de84267b6a0bbe7c0da70fa1d</td>\n",
       "      <td>201808</td>\n",
       "      <td>2024-10-11</td>\n",
       "      <td>207366_Drive Team Pte Ltd</td>\n",
       "      <td>one off</td>\n",
       "      <td>530.866000</td>\n",
       "      <td>2.881844</td>\n",
       "      <td>13.537083</td>\n",
       "      <td>drive team pte ltd</td>\n",
       "    </tr>\n",
       "  </tbody>\n",
       "</table>\n",
       "</div>"
      ],
      "text/plain": [
       "                         PAYMENT_ID  USER_ID PAYMENT_DATE  \\\n",
       "0  604030e48a7d0950d4ce95f1da2481b6   150588   2023-11-23   \n",
       "1  c3e32f2b3a2459d7038bd78362bded30    93024   2024-07-17   \n",
       "2  44550d669aa5c3d35b67e3ff08a1b474    16895   2024-07-15   \n",
       "3  db018d5d24cb868e48b45ebf933da480    48577   2024-06-27   \n",
       "4  20d2865de84267b6a0bbe7c0da70fa1d   201808   2024-10-11   \n",
       "\n",
       "                      PAYEE_NAME SCHEDULE_TYPE          GTV  NET_REVENUE  \\\n",
       "0      151898_Giftworks Creation       one off  1167.146820    10.738661   \n",
       "1  153331_SIMFONI PESONA SDN BHD       one off  1202.259814    10.511147   \n",
       "2   223154_Dyna Cool Air Pte Ltd       one off   115.728788     0.955559   \n",
       "3     50844_Aktiff TG Enterprise       one off   400.424640     5.028059   \n",
       "4      207366_Drive Team Pte Ltd       one off   530.866000     2.881844   \n",
       "\n",
       "     REVENUE PAYEE_NAME_WITHOUT_NUMBERS  \n",
       "0  26.262699         giftworks creation  \n",
       "1  41.498554     simfoni pesona sdn bhd  \n",
       "2   2.601243      dyna cool air pte ltd  \n",
       "3  10.412557       aktiff tg enterprise  \n",
       "4  13.537083         drive team pte ltd  "
      ]
     },
     "execution_count": 14,
     "metadata": {},
     "output_type": "execute_result"
    }
   ],
   "source": [
    "df['PAYEE_NAME_WITHOUT_NUMBERS'] = df['PAYEE_NAME'].str.split('_').str[1]\n",
    "df['PAYEE_NAME_WITHOUT_NUMBERS'] = df['PAYEE_NAME_WITHOUT_NUMBERS'].str.lower()\n",
    "df.head()"
   ]
  },
  {
   "cell_type": "code",
   "execution_count": 15,
   "metadata": {},
   "outputs": [],
   "source": [
    "df.to_csv('all all.csv')"
   ]
  },
  {
   "cell_type": "code",
   "execution_count": null,
   "metadata": {},
   "outputs": [],
   "source": []
  }
 ],
 "metadata": {
  "kernelspec": {
   "display_name": "myenv",
   "language": "python",
   "name": "python3"
  },
  "language_info": {
   "codemirror_mode": {
    "name": "ipython",
    "version": 3
   },
   "file_extension": ".py",
   "mimetype": "text/x-python",
   "name": "python",
   "nbconvert_exporter": "python",
   "pygments_lexer": "ipython3",
   "version": "3.11.10"
  }
 },
 "nbformat": 4,
 "nbformat_minor": 2
}
